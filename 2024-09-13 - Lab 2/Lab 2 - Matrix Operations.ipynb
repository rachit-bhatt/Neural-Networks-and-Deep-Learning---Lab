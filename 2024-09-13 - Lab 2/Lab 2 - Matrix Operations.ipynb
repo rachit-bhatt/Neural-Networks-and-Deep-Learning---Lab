{
 "cells": [
  {
   "cell_type": "markdown",
   "metadata": {},
   "source": [
    "# Matrix Operations\n",
    "- Multiplication\n",
    "- Addition"
   ]
  },
  {
   "cell_type": "code",
   "execution_count": 1,
   "metadata": {},
   "outputs": [],
   "source": [
    "def multiplication(matrix_a : list, matrix_b : list) -> list:\n",
    "    result_matrix = [[0 for _ in range(len(matrix_a[1]))] for _ in range(len(matrix_b[0]))]\n",
    "\n",
    "    for initial_index in range(len(matrix_a)):\n",
    "        for second_index in range(len(matrix_b[0])):\n",
    "            for point_index in range(len(matrix_b[1])):\n",
    "                result_matrix[initial_index][second_index] += matrix_a[initial_index][point_index] * matrix_b[point_index][second_index]\n",
    "\n",
    "    return result_matrix\n",
    "\n",
    "def addition(matrix_a : list, matrix_b : list) -> list:\n",
    "    result_matrix = [[0 for _ in range(len(matrix_a[1]))] for _ in range(len(matrix_b[0]))]\n",
    "\n",
    "    for initial_index in range(len(matrix_a)):\n",
    "        for second_index in range(len(matrix_b[0])):\n",
    "            result_matrix[initial_index][second_index] += matrix_a[initial_index][second_index] + matrix_b[initial_index][second_index]\n",
    "\n",
    "    return result_matrix"
   ]
  },
  {
   "cell_type": "markdown",
   "metadata": {},
   "source": [
    "## Input"
   ]
  },
  {
   "cell_type": "code",
   "execution_count": 2,
   "metadata": {},
   "outputs": [],
   "source": [
    "A = list([\n",
    "    [1, 2, 3],\n",
    "    [4, 5, 6],\n",
    "    [7, 8, 9]\n",
    "])\n",
    "B = list([\n",
    "    [11, 12, 13],\n",
    "    [14, 15, 16],\n",
    "    [17, 18, 19]\n",
    "])\n",
    "C = list([\n",
    "    [21, 22, 23],\n",
    "    [24, 25, 26],\n",
    "    [27, 28, 29]\n",
    "])"
   ]
  },
  {
   "cell_type": "markdown",
   "metadata": {},
   "source": [
    "## Output"
   ]
  },
  {
   "cell_type": "code",
   "execution_count": 3,
   "metadata": {},
   "outputs": [
    {
     "data": {
      "text/plain": [
       "[[90, 96, 102], [216, 231, 246], [342, 366, 390]]"
      ]
     },
     "execution_count": 3,
     "metadata": {},
     "output_type": "execute_result"
    }
   ],
   "source": [
    "multiplication(A, B)"
   ]
  },
  {
   "cell_type": "code",
   "execution_count": 4,
   "metadata": {},
   "outputs": [
    {
     "data": {
      "text/plain": [
       "[[12, 14, 16], [18, 20, 22], [24, 26, 28]]"
      ]
     },
     "execution_count": 4,
     "metadata": {},
     "output_type": "execute_result"
    }
   ],
   "source": [
    "addition(A, B)"
   ]
  },
  {
   "cell_type": "markdown",
   "metadata": {},
   "source": [
    "## Evaluating Properties"
   ]
  },
  {
   "cell_type": "markdown",
   "metadata": {},
   "source": [
    "### Matrix Addition"
   ]
  },
  {
   "cell_type": "markdown",
   "metadata": {},
   "source": [
    "#### Cumulative\n",
    "A + B = B + A"
   ]
  },
  {
   "cell_type": "code",
   "execution_count": 5,
   "metadata": {},
   "outputs": [
    {
     "data": {
      "text/plain": [
       "True"
      ]
     },
     "execution_count": 5,
     "metadata": {},
     "output_type": "execute_result"
    }
   ],
   "source": [
    "addition(A, B) == addition(B, A)"
   ]
  },
  {
   "cell_type": "markdown",
   "metadata": {},
   "source": [
    "#### Associative\n",
    "A + (B + C) = (A + B) + C"
   ]
  },
  {
   "cell_type": "code",
   "execution_count": 6,
   "metadata": {},
   "outputs": [
    {
     "data": {
      "text/plain": [
       "True"
      ]
     },
     "execution_count": 6,
     "metadata": {},
     "output_type": "execute_result"
    }
   ],
   "source": [
    "addition(A, addition(B, C)) == addition(addition(A, B), C)"
   ]
  },
  {
   "cell_type": "markdown",
   "metadata": {},
   "source": [
    "### Matrix Multiplication"
   ]
  },
  {
   "cell_type": "markdown",
   "metadata": {},
   "source": [
    "#### Associative\n",
    "A* (B * C) = (A * B) * C"
   ]
  },
  {
   "cell_type": "code",
   "execution_count": 7,
   "metadata": {},
   "outputs": [
    {
     "data": {
      "text/plain": [
       "True"
      ]
     },
     "execution_count": 7,
     "metadata": {},
     "output_type": "execute_result"
    }
   ],
   "source": [
    "multiplication(multiplication(A, B), C) == multiplication(A, multiplication(B, C))"
   ]
  },
  {
   "cell_type": "markdown",
   "metadata": {},
   "source": [
    "#### Distributive\n",
    "A * (B + C) = (A * B) + (A * C)"
   ]
  },
  {
   "cell_type": "code",
   "execution_count": 8,
   "metadata": {},
   "outputs": [
    {
     "data": {
      "text/plain": [
       "True"
      ]
     },
     "execution_count": 8,
     "metadata": {},
     "output_type": "execute_result"
    }
   ],
   "source": [
    "multiplication(A, addition(B, C)) == addition(multiplication(A, B), multiplication(A, C))"
   ]
  },
  {
   "cell_type": "markdown",
   "metadata": {},
   "source": [
    "#### Not Cumulative (Not Always)\n",
    "A * B != B * A"
   ]
  },
  {
   "cell_type": "code",
   "execution_count": 9,
   "metadata": {},
   "outputs": [
    {
     "data": {
      "text/plain": [
       "False"
      ]
     },
     "execution_count": 9,
     "metadata": {},
     "output_type": "execute_result"
    }
   ],
   "source": [
    "multiplication(A, B) == multiplication(B, A)"
   ]
  }
 ],
 "metadata": {
  "kernelspec": {
   "display_name": "Python 3",
   "language": "python",
   "name": "python3"
  },
  "language_info": {
   "codemirror_mode": {
    "name": "ipython",
    "version": 3
   },
   "file_extension": ".py",
   "mimetype": "text/x-python",
   "name": "python",
   "nbconvert_exporter": "python",
   "pygments_lexer": "ipython3",
   "version": "3.12.4"
  }
 },
 "nbformat": 4,
 "nbformat_minor": 2
}
