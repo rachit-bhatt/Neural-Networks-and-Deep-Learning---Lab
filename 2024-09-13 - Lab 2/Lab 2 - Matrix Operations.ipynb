{
 "cells": [
  {
   "cell_type": "markdown",
   "metadata": {},
   "source": [
    "# Matrix Operations\n",
    "- Multiplication\n",
    "- Addition"
   ]
  },
  {
   "cell_type": "code",
   "execution_count": 58,
   "metadata": {},
   "outputs": [],
   "source": [
    "def multiplication(matrix_a : list, matrix_b : list) -> list:\n",
    "    result_matrix = [[0 for _ in range(len(matrix_a[1]))] for _ in range(len(matrix_b[0]))]\n",
    "\n",
    "    for initial_index in range(len(matrix_a)):\n",
    "        for second_index in range(len(matrix_b[0])):\n",
    "            for point_index in range(len(matrix_b[1])):\n",
    "                result_matrix[initial_index][second_index] += matrix_a[initial_index][point_index] * matrix_b[point_index][second_index]\n",
    "\n",
    "    return result_matrix\n",
    "\n",
    "def addition(matrix_a : list, matrix_b : list) -> list:\n",
    "    result_matrix = [[0 for _ in range(len(matrix_a[1]))] for _ in range(len(matrix_b[0]))]\n",
    "\n",
    "    for initial_index in range(len(matrix_a)):\n",
    "        for second_index in range(len(matrix_b[0])):\n",
    "            for point_index in range(len(matrix_b[1])):\n",
    "                result_matrix[initial_index][second_index] += matrix_a[initial_index][point_index] + matrix_b[point_index][second_index]\n",
    "\n",
    "    return result_matrix"
   ]
  },
  {
   "cell_type": "markdown",
   "metadata": {},
   "source": [
    "## Input"
   ]
  },
  {
   "cell_type": "code",
   "execution_count": 59,
   "metadata": {},
   "outputs": [],
   "source": [
    "A = list([\n",
    "    [1, 2, 3],\n",
    "    [4, 5, 6],\n",
    "    [7, 8, 9]\n",
    "])\n",
    "B = list([\n",
    "    [1, 2, 3],\n",
    "    [4, 5, 6],\n",
    "    [7, 8, 9]\n",
    "])\n",
    "C = list([\n",
    "    [1, 2, 3],\n",
    "    [4, 5, 6],\n",
    "    [7, 8, 9]\n",
    "])"
   ]
  },
  {
   "cell_type": "markdown",
   "metadata": {},
   "source": [
    "## Output"
   ]
  },
  {
   "cell_type": "code",
   "execution_count": 55,
   "metadata": {},
   "outputs": [
    {
     "data": {
      "text/plain": [
       "[[30, 36, 42], [66, 81, 96], [102, 126, 150]]"
      ]
     },
     "execution_count": 55,
     "metadata": {},
     "output_type": "execute_result"
    }
   ],
   "source": [
    "multiplication(A, B)"
   ]
  },
  {
   "cell_type": "code",
   "execution_count": 60,
   "metadata": {},
   "outputs": [
    {
     "data": {
      "text/plain": [
       "[[18, 21, 24], [27, 30, 33], [36, 39, 42]]"
      ]
     },
     "execution_count": 60,
     "metadata": {},
     "output_type": "execute_result"
    }
   ],
   "source": [
    "addition(A, B)"
   ]
  },
  {
   "cell_type": "markdown",
   "metadata": {},
   "source": [
    "## Properties Comparison"
   ]
  },
  {
   "cell_type": "code",
   "execution_count": 57,
   "metadata": {},
   "outputs": [
    {
     "data": {
      "text/plain": [
       "True"
      ]
     },
     "execution_count": 57,
     "metadata": {},
     "output_type": "execute_result"
    }
   ],
   "source": [
    "multiplication(multiplication(A, B), C) == multiplication(A, multiplication(B, C))"
   ]
  }
 ],
 "metadata": {
  "kernelspec": {
   "display_name": "Python 3",
   "language": "python",
   "name": "python3"
  },
  "language_info": {
   "codemirror_mode": {
    "name": "ipython",
    "version": 3
   },
   "file_extension": ".py",
   "mimetype": "text/x-python",
   "name": "python",
   "nbconvert_exporter": "python",
   "pygments_lexer": "ipython3",
   "version": "3.12.4"
  }
 },
 "nbformat": 4,
 "nbformat_minor": 2
}
